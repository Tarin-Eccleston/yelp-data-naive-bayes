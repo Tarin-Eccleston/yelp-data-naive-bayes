{
 "cells": [
  {
   "attachments": {},
   "cell_type": "markdown",
   "metadata": {},
   "source": [
    "Discussion\n",
    "\n",
    "1) the motivation behind the presented solutions\n",
    "\n",
    "2) how you represent and preprocess the data\n",
    "\n",
    "Task 1\n",
    "Stop words: Here, the stop_words parameter is set to 'english' to remove common English words that are not typically useful for classification. \n",
    "Strip_accents: is set to 'ascii' to remove accents from characters in the text, which can be important for maintaining consistency across different languages or text sources.\n",
    "\n",
    "Performed quite similarly, didn't do anything using the two above, leave them in for practical purposes.\n",
    "\n",
    "Task 2\n",
    "- Venue name: countVectorisation using stop words and strip accents\n",
    "- Mean check-in time: binning checkin times by the hour\n",
    "\n",
    "3) your idea and solution implementation for each of the two tasks listed above.\n",
    "\n",
    "Task 1\n",
    "- Fit baseline naive bayes model. Performed the worst. \n",
    "- Adding some preprocessing (as mentioned above) allowed it to perform slightly better\n",
    "- Balanced classes using over and undersampling performed roughly the same. Issues with loosing information from undersampling majority classes and introducing bias from oversampling minority classes.\n",
    "- Compliment Naive Bayes can deal with class imbalance through.... performs the best, but not significantl better. Extra performance with preprocessing from model 2.\n",
    "\n",
    "All perform reletively similar.. however compliment naive bayes was better.. it might be best to add other variables into the model which might be helpful, so we look at Task 2.\n",
    "\n",
    "Task 2\n",
    "- EDA to identify features. Using logic and analysis to make decisions.\n",
    "    - No difference in distribution between lat and lon between the 3 classes... probably not a really useful variable.\n",
    "    - EDIT: NEED TO CLARIFY WHAT MEAN CHECKIN TIME MEANS. Mean checkin time could give us an indication of when the person could've possibly accessed the venue, however this assumes that the person reviews the business right after their experience there... which is a strong assumption.\n",
    "    - Venue name could logically be a stronger feature to identify venue type\n",
    "- \n",
    "\n",
    "4) the evaluation procedure (e.g., cross-validation or training/validation split)\n",
    "\n",
    "Preprocessing: piping to avoid information leakage between training and validation sets\n",
    "- countvectorisation()\n",
    "- over/under sampling minority/majority class\n",
    "\n",
    "Strat CV\n",
    "- data is split in a way that maintains the proportion of instances of each class in each fold. used when testing with imbalanced data\n",
    "- improves performance slightly compared to normal CV\n",
    "\n",
    "GridsearchCV: Searches Gridspace and does CV for each combination of hyperparameters and preprocessing parameters\n",
    "- Using prior probabilities or not\n",
    "- Laplace smoothing alpha value (to limit naives bayes equation denom/numer to drive to 0 for certain predictions when we get 0 instances of a word appearing given the class label)\n",
    "\n",
    "5) the training/validation results. \n",
    "\n",
    "Ooo, probably need to pay attention this and look at how we report accuracy...\n",
    "\n",
    "Notes\n",
    "- Assume test and train data come from the same distribution, so we split the training set into a further training and test set\n",
    "\n",
    "\n"
   ]
  },
  {
   "cell_type": "code",
   "execution_count": 92,
   "metadata": {},
   "outputs": [],
   "source": [
    "import sklearn\n",
    "from sklearn.feature_extraction.text import CountVectorizer\n",
    "from sklearn.naive_bayes import MultinomialNB\n",
    "from sklearn.naive_bayes import ComplementNB\n",
    "from sklearn.model_selection import train_test_split\n",
    "from sklearn.model_selection import cross_val_score\n",
    "from sklearn.metrics import accuracy_score\n",
    "from sklearn.model_selection import GridSearchCV\n",
    "from sklearn.model_selection import RepeatedStratifiedKFold\n",
    "\n",
    "from imblearn.under_sampling import RandomUnderSampler\n",
    "from imblearn.over_sampling import RandomOverSampler\n",
    "from imblearn.pipeline import Pipeline\n",
    "\n",
    "import pandas as pd\n",
    "import numpy as np\n",
    "\n",
    "import matplotlib.pyplot as plt\n"
   ]
  },
  {
   "cell_type": "code",
   "execution_count": 97,
   "metadata": {},
   "outputs": [],
   "source": [
    "k_folds = 10\n",
    "rs = 999"
   ]
  },
  {
   "cell_type": "code",
   "execution_count": 98,
   "metadata": {},
   "outputs": [],
   "source": [
    "yelp_df = pd.read_csv('../data/input/train.csv')\n",
    "\n",
    "X = yelp_df[\"review\"]\n",
    "y = yelp_df[\"category\"]\n",
    "\n",
    "# \n",
    "X_train, X_test, y_train, y_test = train_test_split(X, y, test_size = 0.2, random_state = rs)"
   ]
  },
  {
   "attachments": {},
   "cell_type": "markdown",
   "metadata": {},
   "source": [
    "Model 1: Implement Multinomial Naive Bayes with Unpreprocessed Data"
   ]
  },
  {
   "cell_type": "code",
   "execution_count": 94,
   "metadata": {},
   "outputs": [
    {
     "name": "stdout",
     "output_type": "stream",
     "text": [
      "Best hyperparameters:  {'clf__alpha': 0.5, 'clf__fit_prior': False}\n",
      "Test accuracy: 87.5  %\n",
      "Standard deviation: 1.9038  %\n"
     ]
    }
   ],
   "source": [
    "params = {\n",
    "    'clf__alpha': [0.1, 0.25, 0.5, 0.75, 1, 1.25, 1.5, 1.75, 2],\n",
    "    'clf__fit_prior': [True, False]\n",
    "}\n",
    "\n",
    "# where our k-folds will be independantly piped into (1 fold count vectorised independantly of the other 9 folds) this ensures no information leakage between the training and validation sets\n",
    "pipeline = Pipeline([\n",
    "    ('vect', CountVectorizer()),\n",
    "    ('clf', MultinomialNB())\n",
    "])\n",
    "\n",
    "# data is split in a way that maintains the proportion of instances of each class in each fold. used when testing with imbalanced data\n",
    "cv_struct = RepeatedStratifiedKFold(n_splits = k_folds, n_repeats=3, random_state=rs)\n",
    "\n",
    "grid_search = GridSearchCV(pipeline, params, cv=cv_struct, scoring='accuracy')\n",
    "grid_search.fit(X_train, y_train)\n",
    "\n",
    "# gather best hyperparameters, best model use standard deviation for an estimate on how \n",
    "print(\"Best hyperparameters: \", grid_search.best_params_)\n",
    "best_params = grid_search.best_params_\n",
    "std_dev = grid_search.cv_results_['std_test_score'][grid_search.best_index_]\n",
    "best_model = grid_search.best_estimator_\n",
    "\n",
    "# predictions\n",
    "test_predictions = best_model.predict(X_test)\n",
    "test_accuracy = accuracy_score(y_test, test_predictions)\n",
    "mean_accuracy = test_accuracy.mean()\n",
    "\n",
    "# crude estimation of percentage standard deviation based on test accuracy and standard deviation from cross-validation\n",
    "percent_std_dev = std_dev / mean_accuracy * 100\n",
    "\n",
    "print('Test accuracy:', round(test_accuracy * 100, 4), \" %\")\n",
    "print('Standard deviation:', round(percent_std_dev, 4), \" %\")"
   ]
  },
  {
   "attachments": {},
   "cell_type": "markdown",
   "metadata": {},
   "source": [
    "Poor performance. Below baseline."
   ]
  },
  {
   "attachments": {},
   "cell_type": "markdown",
   "metadata": {},
   "source": [
    "Model 2: Implement Multinomial Naive Bayes with Preprocessing (Stop Words, and Strip Accents)"
   ]
  },
  {
   "cell_type": "code",
   "execution_count": 95,
   "metadata": {},
   "outputs": [
    {
     "name": "stdout",
     "output_type": "stream",
     "text": [
      "Best hyperparameters:  {'clf__alpha': 0.75, 'clf__fit_prior': False}\n",
      "Test accuracy: 87.8521  %\n",
      "Standard deviation: 1.936  %\n"
     ]
    }
   ],
   "source": [
    "params = {\n",
    "    'clf__alpha': [0.1, 0.25, 0.5, 0.75, 1, 1.25, 1.5, 1.75, 2],\n",
    "    'clf__fit_prior': [True, False]\n",
    "}\n",
    "\n",
    "# where our k-folds will be independantly piped into (1 fold count vectorised independantly of the other 9 folds) this ensures no information leakage between the training and validation sets\n",
    "pipeline = Pipeline([\n",
    "    ('vect', CountVectorizer(stop_words='english', strip_accents = \"ascii\")),\n",
    "    ('clf', MultinomialNB())\n",
    "])\n",
    "\n",
    "# data is split in a way that maintains the proportion of instances of each class in each fold. used when testing with imbalanced data\n",
    "cv_struct = RepeatedStratifiedKFold(n_splits = k_folds, n_repeats=3, random_state=rs)\n",
    "\n",
    "grid_search = GridSearchCV(pipeline, params, cv=cv_struct, scoring='accuracy')\n",
    "grid_search.fit(X_train, y_train)\n",
    "\n",
    "# gather best hyperparameters, best model use standard deviation for an estimate on how \n",
    "print(\"Best hyperparameters: \", grid_search.best_params_)\n",
    "best_params = grid_search.best_params_\n",
    "std_dev = grid_search.cv_results_['std_test_score'][grid_search.best_index_]\n",
    "best_model = grid_search.best_estimator_\n",
    "\n",
    "# predictions\n",
    "test_predictions = best_model.predict(X_test)\n",
    "test_accuracy = accuracy_score(y_test, test_predictions)\n",
    "mean_accuracy = test_accuracy.mean()\n",
    "\n",
    "# crude estimation of percentage standard deviation based on test accuracy and standard deviation from cross-validation\n",
    "percent_std_dev = std_dev / mean_accuracy * 100\n",
    "\n",
    "print('Test accuracy:', round(test_accuracy * 100, 4), \" %\")\n",
    "print('Standard deviation:', round(percent_std_dev, 4), \" %\")"
   ]
  },
  {
   "attachments": {},
   "cell_type": "markdown",
   "metadata": {},
   "source": [
    "Slightly better performance using stop words and split accents. Could be useful when implemented on large dataset sets."
   ]
  },
  {
   "attachments": {},
   "cell_type": "markdown",
   "metadata": {},
   "source": [
    "Let's evaluate how balanced our class labels are..."
   ]
  },
  {
   "cell_type": "code",
   "execution_count": 71,
   "metadata": {},
   "outputs": [
    {
     "data": {
      "image/png": "[encoded data removed]",
      "text/plain": [
       "<Figure size 640x480 with 2 Axes>"
      ]
     },
     "metadata": {},
     "output_type": "display_data"
    }
   ],
   "source": [
    "class_counts = y.value_counts()\n",
    "# calculate the percentage of each class\n",
    "class_percentages = (class_counts / class_counts.sum()) * 100\n",
    "\n",
    "# create a bar plot of the categorical class distribution with percentages\n",
    "fig, ax = plt.subplots()\n",
    "class_counts.plot(kind='bar', ax=ax)\n",
    "ax2 = ax.twinx()\n",
    "class_percentages.plot(kind='line', color='red', ax=ax2, linestyle=\"None\",marker='None')\n",
    "ax2.yaxis.set_major_formatter('{x:.2f}%')\n",
    "plt.title('Class Distribution')\n",
    "plt.xlabel('Class')\n",
    "plt.ylabel('Count / Percentage')\n",
    "plt.show()"
   ]
  },
  {
   "attachments": {},
   "cell_type": "markdown",
   "metadata": {},
   "source": [
    "\"Restaurants\" appears to be the majority class label, taking up to 62% of the class, followed by \"Shopping\" at 26% then \"Nightlife\" at 11%. This is not ideal when model building as we will see inherent bias towards classifiying a venue as a \"Restaurant\" compared to \"Shopping\" or \"Nightlife\". This is because the prior probabilities of restaruant P(yres) will be higher than that of P(ynight) and P(yshop) purely due to class label distribution. I solve this by performing oversampling of our minority class labels."
   ]
  },
  {
   "attachments": {},
   "cell_type": "markdown",
   "metadata": {},
   "source": [
    "Model 3: Implement Naive Bayes with Preprocessing and Over and Undersampling Class Labels"
   ]
  },
  {
   "cell_type": "code",
   "execution_count": 88,
   "metadata": {},
   "outputs": [
    {
     "name": "stdout",
     "output_type": "stream",
     "text": [
      "Best hyperparameters:  {'clf__alpha': 1.5, 'clf__fit_prior': False, 'over_sampler__sampling_strategy': 'minority', 'under_sampler__sampling_strategy': 'majority'}\n",
      "Test accuracy: 87.5  %\n",
      "Standard deviation: 2.1221  %\n"
     ]
    }
   ],
   "source": [
    "params = {\n",
    "    # reduce alpha values for fast processing of gridsearchCV\n",
    "    'clf__alpha': [0.5, 0.75, 1, 1.25, 1.5],\n",
    "    'clf__fit_prior': [True, False],\n",
    "    'over_sampler__sampling_strategy': ['not minority', 'not majority', 'minority', 'all'],\n",
    "    'under_sampler__sampling_strategy': ['majority', 'not minority', 'not majority', 'all'],\n",
    "}\n",
    "\n",
    "# where our k-folds will be independantly piped into (1 fold count vectorised independantly of the other 9 folds) this ensures no information leakage between the training and validation sets\n",
    "pipeline = Pipeline([\n",
    "    ('vect', CountVectorizer(stop_words='english', strip_accents = \"ascii\")),\n",
    "    ('over_sampler', RandomOverSampler()),\n",
    "    ('under_sampler', RandomUnderSampler()),\n",
    "    ('clf', MultinomialNB(alpha=0.5, fit_prior=True))\n",
    "])\n",
    "\n",
    "# data is split in a way that maintains the proportion of instances of each class in each fold. used when testing with imbalanced data\n",
    "cv_struct = RepeatedStratifiedKFold(n_splits = k_folds, n_repeats=3, random_state=rs)\n",
    "\n",
    "# search hyperparameter space\n",
    "grid_search = GridSearchCV(pipeline, params, cv=cv_struct, scoring='accuracy')\n",
    "grid_search.fit(X_train, y_train)\n",
    "\n",
    "# gather best hyperparameters, best model use standard deviation for an estimate on how \n",
    "print(\"Best hyperparameters: \", grid_search.best_params_)\n",
    "best_params = grid_search.best_params_\n",
    "std_dev = grid_search.cv_results_['std_test_score'][grid_search.best_index_]\n",
    "best_model = grid_search.best_estimator_\n",
    "\n",
    "# predictions\n",
    "test_predictions = best_model.predict(X_test)\n",
    "test_accuracy = accuracy_score(y_test, test_predictions)\n",
    "mean_accuracy = test_accuracy.mean()\n",
    "\n",
    "# crude estimation of percentage standard deviation based on test accuracy and standard deviation from cross-validation\n",
    "percent_std_dev = std_dev / mean_accuracy * 100\n",
    "\n",
    "print('Test accuracy:', round(test_accuracy * 100, 4), \" %\")\n",
    "print('Standard deviation:', round(percent_std_dev, 4), \" %\")"
   ]
  },
  {
   "attachments": {},
   "cell_type": "markdown",
   "metadata": {},
   "source": [
    "Doesn't perform much better than other models. Try Compliment Naive Bayes as it is better with dealing with imbalanced classes without having to bootstrap samples or reduce samples."
   ]
  },
  {
   "attachments": {},
   "cell_type": "markdown",
   "metadata": {},
   "source": [
    "Model 4: Compliment Naive Bayes with Preprocessing"
   ]
  },
  {
   "cell_type": "code",
   "execution_count": 99,
   "metadata": {},
   "outputs": [
    {
     "name": "stdout",
     "output_type": "stream",
     "text": [
      "Best hyperparameters:  {'cnb__alpha': 0.75, 'cnb__fit_prior': True}\n",
      "Test accuracy: 89.6127  %\n",
      "Standard deviation: 2.1409  %\n"
     ]
    }
   ],
   "source": [
    "params = {\n",
    "    'cnb__alpha': [0.1, 0.25, 0.5, 0.75, 1, 1.25, 1.5, 1.75, 2],\n",
    "    'cnb__fit_prior': [True, False]\n",
    "}\n",
    "\n",
    "# where our k-folds will be independantly piped into (1 fold count vectorised independantly of the other 9 folds) this ensures no information leakage between the training and validation sets\n",
    "pipeline = Pipeline([\n",
    "    ('vect', CountVectorizer(stop_words='english', strip_accents = \"ascii\")),\n",
    "    ('cnb', ComplementNB())\n",
    "])\n",
    "\n",
    "# data is split in a way that maintains the proportion of instances of each class in each fold. used when testing with imbalanced data\n",
    "cv_struct = RepeatedStratifiedKFold(n_splits = k_folds, n_repeats=3, random_state=rs)\n",
    "\n",
    "grid_search = GridSearchCV(pipeline, params, cv=cv_struct, scoring='accuracy')\n",
    "grid_search.fit(X_train, y_train)\n",
    "\n",
    "# gather best hyperparameters, best model use standard deviation for an estimate on how \n",
    "print(\"Best hyperparameters: \", grid_search.best_params_)\n",
    "best_params = grid_search.best_params_\n",
    "std_dev = grid_search.cv_results_['std_test_score'][grid_search.best_index_]\n",
    "best_model = grid_search.best_estimator_\n",
    "\n",
    "# predictions\n",
    "test_predictions = best_model.predict(X_test)\n",
    "test_accuracy = accuracy_score(y_test, test_predictions)\n",
    "mean_accuracy = test_accuracy.mean()\n",
    "\n",
    "# crude estimation of percentage standard deviation based on test accuracy and standard deviation from cross-validation\n",
    "percent_std_dev = std_dev / mean_accuracy * 100\n",
    "\n",
    "print('Test accuracy:', round(test_accuracy * 100, 4), \" %\")\n",
    "print('Standard deviation:', round(percent_std_dev, 4), \" %\")"
   ]
  }
 ],
 "metadata": {
  "kernelspec": {
   "display_name": "base",
   "language": "python",
   "name": "python3"
  },
  "language_info": {
   "codemirror_mode": {
    "name": "ipython",
    "version": 3
   },
   "file_extension": ".py",
   "mimetype": "text/x-python",
   "name": "python",
   "nbconvert_exporter": "python",
   "pygments_lexer": "ipython3",
   "version": "3.9.13"
  },
  "orig_nbformat": 4
 },
 "nbformat": 4,
 "nbformat_minor": 2
}
