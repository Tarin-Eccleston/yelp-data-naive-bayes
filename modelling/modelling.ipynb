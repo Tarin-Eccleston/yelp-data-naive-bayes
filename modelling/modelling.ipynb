{
 "cells": [
  {
   "attachments": {},
   "cell_type": "markdown",
   "metadata": {},
   "source": [
    "Discussion\n",
    "\n",
    "1) the motivation behind the presented solutions\n",
    "2) how you represent and preprocess the data\n",
    "3) your idea and solution implementation for each of the two tasks listed above.\n",
    "4) the evaluation procedure (e.g., cross-validation or training/validation split)\n",
    "5) the training/validation results. "
   ]
  },
  {
   "cell_type": "code",
   "execution_count": 10,
   "metadata": {},
   "outputs": [],
   "source": [
    "import sklearn\n",
    "from sklearn.feature_extraction.text import CountVectorizer\n",
    "from sklearn.naive_bayes import MultinomialNB\n",
    "from sklearn.model_selection import train_test_split\n",
    "from sklearn.model_selection import cross_val_score\n",
    "from sklearn.metrics import accuracy_score\n",
    "\n",
    "\n",
    "import pandas as pd\n",
    "import numpy as np\n",
    "\n"
   ]
  },
  {
   "cell_type": "code",
   "execution_count": 11,
   "metadata": {},
   "outputs": [],
   "source": [
    "k_folds = 10"
   ]
  },
  {
   "cell_type": "code",
   "execution_count": 5,
   "metadata": {},
   "outputs": [],
   "source": [
    "yelp_df = pd.read_csv('../data/input/train.csv')"
   ]
  },
  {
   "attachments": {},
   "cell_type": "markdown",
   "metadata": {},
   "source": [
    "Implement Naive Bayes using Unpreprocessed Data"
   ]
  },
  {
   "cell_type": "code",
   "execution_count": 15,
   "metadata": {},
   "outputs": [
    {
     "name": "stdout",
     "output_type": "stream",
     "text": [
      "Average accuracy: 87.1032  %\n",
      "Standard deviation: 1.3601  %\n"
     ]
    }
   ],
   "source": [
    "# create a bag of words representation of the review text\n",
    "vectorizer = CountVectorizer()\n",
    "X = vectorizer.fit_transform(yelp_df['review'])\n",
    "\n",
    "# label column\n",
    "y = yelp_df['category']\n",
    "\n",
    "# train the Naive Bayes model with 10-fold cross-validation\n",
    "clf = MultinomialNB()\n",
    "scores = cross_val_score(clf, X, y, cv=k_folds)\n",
    "\n",
    "# calculate the average accuracy and standard deviation of the model\n",
    "print('Average accuracy:', round(scores.mean() * 100, 4), \" %\")\n",
    "print('Standard deviation:', round(scores.std() * 100, 4), \" %\")"
   ]
  }
 ],
 "metadata": {
  "kernelspec": {
   "display_name": "base",
   "language": "python",
   "name": "python3"
  },
  "language_info": {
   "codemirror_mode": {
    "name": "ipython",
    "version": 3
   },
   "file_extension": ".py",
   "mimetype": "text/x-python",
   "name": "python",
   "nbconvert_exporter": "python",
   "pygments_lexer": "ipython3",
   "version": "3.9.13"
  },
  "orig_nbformat": 4
 },
 "nbformat": 4,
 "nbformat_minor": 2
}
